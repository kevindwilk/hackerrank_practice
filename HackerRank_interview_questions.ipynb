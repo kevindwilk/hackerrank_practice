{
 "cells": [
  {
   "cell_type": "markdown",
   "metadata": {},
   "source": [
    "# HackerRank interview algorithms that I have solved successfully"
   ]
  },
  {
   "cell_type": "markdown",
   "metadata": {},
   "source": [
    "## Warm up challenges\n",
    "\n",
    "### 1) Sock Merchant\n",
    "<img src=\"files/sock_problem.png\">"
   ]
  },
  {
   "cell_type": "code",
   "execution_count": 76,
   "metadata": {},
   "outputs": [],
   "source": [
    "# Complete the sockMerchant function below.\n",
    "def sockMerchant(n, ar):\n",
    "    lst = []\n",
    "    #this first part creates a list of unique types of socks\n",
    "    for x in ar:\n",
    "        if( x not in lst ):\n",
    "            lst.append(x)\n",
    "    #print(lst)\n",
    "    jnk = []\n",
    "    #I am getting a list of lists with the locations for all the different types of socks\n",
    "    for x in lst:\n",
    "        jnk.append([i for i,j in enumerate(ar) if j==x])\n",
    "    #print(jnk)\n",
    "    b = [len(jnk[i]) for i in range(len(lst))]\n",
    "    #print(b)\n",
    "    totpairs = 0\n",
    "    #If I take the length of each sub-list and divide it by two, then I get the total number of matched pairs for each type. Adding that all up gives me the total.\n",
    "    for x in b:\n",
    "        totpairs += int(int(x)/2)\n",
    "    return totpairs\n",
    "\n",
    "# The smarter way to do this is using a python dictionary which makes the lookup easy, smart, and fast.\n",
    "# This was a result of learning and going back to redo these algorithms.\n",
    "\n",
    "def sockMerchant2(n, ar):\n",
    "    data = {}\n",
    "    for s in ar:\n",
    "        if s not in data:\n",
    "            data[s]=1\n",
    "        else:\n",
    "            data[s]+=1\n",
    "    tot_pairs=0\n",
    "    for socks in data:\n",
    "        tot_pairs+=int(data[socks]/2)\n",
    "    return tot_pairs"
   ]
  },
  {
   "cell_type": "markdown",
   "metadata": {},
   "source": [
    "### 2) Counting Valleys\n",
    "\n",
    "<img src=\"files/valleys_problem.png\">"
   ]
  },
  {
   "cell_type": "code",
   "execution_count": 77,
   "metadata": {},
   "outputs": [],
   "source": [
    "# Complete the countingValleys function below.\n",
    "def countingValleys(n, s):\n",
    "    x = []\n",
    "    for ud in s:\n",
    "        if(ud == 'U'):\n",
    "            x.append(1)\n",
    "        else:\n",
    "            x.append(-1)\n",
    "    count = 0\n",
    "    tot = 0\n",
    "    tmp = 0\n",
    "    for val in x:\n",
    "        tot += val\n",
    "        if((tot == 0) and (tmp < 0)):\n",
    "            count += 1\n",
    "        tmp += val\n",
    "    return count\n",
    "\n",
    "#\n",
    "# I changed the splitting of the string to be implicit instead of an explicit loop\n",
    "#\n",
    "\n",
    "def countingValleys(n,s):\n",
    "    ls = [1 if val=='U' else -1 for val in s]\n",
    "    nvalley = 0\n",
    "    summ = 0\n",
    "    dum = 0\n",
    "    for x in ls:\n",
    "        summ+=x\n",
    "        # I need to know if you're coming from below \n",
    "        # or not since you start out at level ground \n",
    "        # (i.e. sum of 0)\n",
    "        if ((summ==0) and (dum<0)):\n",
    "            nvalley+=1\n",
    "        dum+=x\n",
    "    return nvalley"
   ]
  },
  {
   "cell_type": "markdown",
   "metadata": {},
   "source": [
    "### 3) Jumping on the Clouds\n",
    "\n",
    "<img src=\"files/cloud_problem.png\">"
   ]
  },
  {
   "cell_type": "code",
   "execution_count": 78,
   "metadata": {},
   "outputs": [],
   "source": [
    "def jumpingOnClouds(c,n):\n",
    "    njumps = 0\n",
    "    ii = 0\n",
    "    while ii<=(n-3):\n",
    "        cp2 = c[ii+2]==0\n",
    "        if(cp2):\n",
    "            njumps+=1\n",
    "            ii+=2\n",
    "        else:\n",
    "            njumps+=1\n",
    "            ii+=1\n",
    "    if ii<n-1:\n",
    "        cp1 = c[ii+1]==0       \n",
    "        if(cp1):\n",
    "            njumps+=1\n",
    "            ii+=1\n",
    "    return njumps\n",
    "\n",
    "#\n",
    "# I freshened up the algorithm below so that it is cleaner and easier to understand\n",
    "#\n",
    "def jumpingOnClouds(c):\n",
    "    n = len(c)\n",
    "    ii=0\n",
    "    njumps=0\n",
    "    res = n-1\n",
    "    while(res > 1):\n",
    "        #-- n-1 is just counting how many clouds are left, \n",
    "        #-- so we want res to be larger than 1 for our \n",
    "        #-- calculations to avoid going out of range of the list\n",
    "        if(c[ii+2]==1):\n",
    "            ii+=1\n",
    "        else:\n",
    "            ii+=2\n",
    "        njumps+=1    \n",
    "        res = n-(ii+1)\n",
    "    if res==1:\n",
    "        njumps+=1\n",
    "    return njumps"
   ]
  },
  {
   "cell_type": "markdown",
   "metadata": {},
   "source": [
    "### 4) Repeated String\n",
    "\n",
    "<img src=\"files/rep_strings_problem.png\">"
   ]
  },
  {
   "cell_type": "code",
   "execution_count": 79,
   "metadata": {},
   "outputs": [],
   "source": [
    "def repeatedString(s, n):\n",
    "    arr = list(s) # turning the string into a list\n",
    "    ln = len(arr)\n",
    "    #-- Below I am just counting the number of letters 'a' there are in the original string\n",
    "    snum = sum(list(map(lambda x: x=='a',arr)))\n",
    "    #-- I can then figure out how many whole sets of strings are in the first n characters\n",
    "    num = int(n/ln)*snum\n",
    "    #-- Now I need to add in the remaining 'a's for the piece of the string that is left\n",
    "    mod = n%ln\n",
    "    if(mod != 0):\n",
    "        arr = list(s[:mod])\n",
    "        ln = len(arr)\n",
    "        snum = sum(list(map(lambda x: x=='a',arr)))\n",
    "        num+=snum\n",
    "    return num"
   ]
  },
  {
   "cell_type": "markdown",
   "metadata": {},
   "source": [
    "## Array challenges"
   ]
  },
  {
   "cell_type": "markdown",
   "metadata": {},
   "source": [
    "### 1) 2D Array - DS\n",
    "\n",
    "<img src=\"files/hourglass1.png\">\n",
    "<img src=\"files/hourglass2.png\">"
   ]
  },
  {
   "cell_type": "code",
   "execution_count": 7,
   "metadata": {},
   "outputs": [],
   "source": [
    "def hourglassSum1(arr):\n",
    "    max_sum = 0\n",
    "    for jj in range(4):\n",
    "        for ii in range(4):\n",
    "            tmp = 0\n",
    "            tmp = sum(arr[jj][ii:ii+3])+arr[jj+1][ii+1]+sum(arr[jj+2][ii:ii+3])\n",
    "            if (tmp>max_sum):\n",
    "                max_sum = tmp\n",
    "    return max_sum\n",
    "\n",
    "#\n",
    "# I can do a little better if I use implicit loops and \n",
    "# save the sums in an array and find the maximum value\n",
    "# of the array.\n",
    "#\n",
    "\n",
    "def hourglassSum2(arr):\n",
    "    max_sum = max([sum(arr[jj][ii:ii+3])+arr[jj+1][ii+1]+sum(arr[jj+2][ii:ii+3]) \n",
    "                   for ii in range(4) for jj in range(4)])\n",
    "    return max_sum"
   ]
  },
  {
   "cell_type": "markdown",
   "metadata": {},
   "source": [
    "### 2) Left Rotation\n",
    "\n",
    "<img src=\"files/left_rotation.png\">"
   ]
  },
  {
   "cell_type": "code",
   "execution_count": 34,
   "metadata": {},
   "outputs": [],
   "source": [
    "def rotLeft(arr, d):\n",
    "    n = len(arr)\n",
    "    for perm in range(d):\n",
    "        arr = [arr[(i+1)%n] for i in range(n)]\n",
    "    return arr\n",
    "\n",
    "#\n",
    "# I got a timeout error running it through hackerrank, so I have to make it faster...\n",
    "# If I make the loop over d%n then I take into account if the permutations loops back\n",
    "# over the array multiple times...\n",
    "#\n",
    "\n",
    "def rotLeft2(arr, d):\n",
    "    n = len(arr)\n",
    "    k = d%n\n",
    "    for perm in range(d%n):\n",
    "        arr = [arr[(i+1)%n] for i in range(n)]\n",
    "    return arr\n",
    "\n",
    "#\n",
    "# I am still getting a timeout error running it through hackerrank, so I have to make it faster...\n",
    "# Getting rid of the one loop saves time\n",
    "#\n",
    "\n",
    "def rotLeft3(arr, d):\n",
    "    n = len(arr)\n",
    "    k = d%n\n",
    "    arr = [arr[(i+k)%n] for i in range(n)]\n",
    "    return arr"
   ]
  },
  {
   "cell_type": "code",
   "execution_count": null,
   "metadata": {},
   "outputs": [],
   "source": []
  }
 ],
 "metadata": {
  "kernelspec": {
   "display_name": "Python 3",
   "language": "python",
   "name": "python3"
  },
  "language_info": {
   "codemirror_mode": {
    "name": "ipython",
    "version": 3
   },
   "file_extension": ".py",
   "mimetype": "text/x-python",
   "name": "python",
   "nbconvert_exporter": "python",
   "pygments_lexer": "ipython3",
   "version": "3.7.3"
  }
 },
 "nbformat": 4,
 "nbformat_minor": 2
}
